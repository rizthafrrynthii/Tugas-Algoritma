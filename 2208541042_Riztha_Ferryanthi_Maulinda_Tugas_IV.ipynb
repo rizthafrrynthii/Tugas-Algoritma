{
  "nbformat": 4,
  "nbformat_minor": 0,
  "metadata": {
    "colab": {
      "provenance": [],
      "authorship_tag": "ABX9TyNjFzwua9I3mJ8DzBdQZj6F",
      "include_colab_link": true
    },
    "kernelspec": {
      "name": "python3",
      "display_name": "Python 3"
    },
    "language_info": {
      "name": "python"
    }
  },
  "cells": [
    {
      "cell_type": "markdown",
      "metadata": {
        "id": "view-in-github",
        "colab_type": "text"
      },
      "source": [
        "<a href=\"https://colab.research.google.com/github/rizthafrrynthii/Tugas-Algoritma/blob/main/2208541042_Riztha_Ferryanthi_Maulinda_Tugas_IV.ipynb\" target=\"_parent\"><img src=\"https://colab.research.google.com/assets/colab-badge.svg\" alt=\"Open In Colab\"/></a>"
      ]
    },
    {
      "cell_type": "code",
      "execution_count": null,
      "metadata": {
        "colab": {
          "base_uri": "https://localhost:8080/"
        },
        "id": "Gh89h9Y_qG6Y",
        "outputId": "abfcb21c-b0a8-4910-d478-2a0fef45efa3"
      },
      "outputs": [
        {
          "output_type": "stream",
          "name": "stdout",
          "text": [
            "*\n",
            "**\n",
            "***\n",
            "****\n",
            "*****\n",
            "******\n",
            "*******\n",
            "********\n",
            "*********\n"
          ]
        }
      ],
      "source": [
        "#Tugas 4\n",
        "\n",
        "#1. While Loop\n",
        "#selama nilainya bernilai true, maka programnya akan berjalan\n",
        "#namun akan berhenti saat nilainya False\n",
        "\n",
        "x=1   #jika disini ditaruh angka yang lebih dari 10, maka nilainya akan False dan tidak akan dijalankan\n",
        "while x<10:  #hati-hati ketika menaruh tanda lebih/kurang dari, karena sangat mempengaruhi true/false nya\n",
        "      print(x * '*')\n",
        "      x+=1"
      ]
    },
    {
      "cell_type": "code",
      "source": [
        "#contoh lain\n",
        "x=1\n",
        "while x<2:\n",
        "      y=x**2\n",
        "      print(y)\n",
        "      x=x-1\n",
        "      print(x)\n",
        "#program ini akan terus berulang karena tidak diberi batasan"
      ],
      "metadata": {
        "id": "t6bZx7C2ydEL"
      },
      "execution_count": null,
      "outputs": []
    },
    {
      "cell_type": "code",
      "source": [
        "#2. List\n",
        "\n",
        "#digunakan untuk menampilkan objek di dalam Phyton baik berupa string maupun berupa angka\n",
        "#list dapat dipanggil urutannya, bahkan isinya juga dapat dirubah\n",
        "#perhatikan contoh dibawah ini\n",
        "\n",
        "hari = ['senin', 'selasa', 'rabu', 'kamis', 'jumat']\n",
        "print(hari)\n",
        "\n",
        "print(hari[2])\n",
        "print(hari[-2])\n",
        "\n",
        "#dapat diketahui bahwa urutan pertama dimulai dari 0, dan urutan terakhir yaitu -1\n",
        "#kita juga dapat membuat selang seperti metode \"string index\"\n",
        "#seperti contoh dibawah ini\n",
        "\n",
        "print(hari[2:5])"
      ],
      "metadata": {
        "colab": {
          "base_uri": "https://localhost:8080/"
        },
        "id": "DHhydHwgy0ik",
        "outputId": "ea8986fa-6287-43e0-a941-636ec706beea"
      },
      "execution_count": null,
      "outputs": [
        {
          "output_type": "stream",
          "name": "stdout",
          "text": [
            "['senin', 'selasa', 'rabu', 'kamis', 'jumat']\n",
            "rabu\n",
            "kamis\n",
            "['rabu', 'kamis', 'jumat']\n"
          ]
        }
      ]
    },
    {
      "cell_type": "code",
      "source": [
        "\n",
        "#3. Metoda List\n",
        "\n",
        "#list dapat ditambahkan atau dihilangkan isinya. \n",
        "#perhatikan contoh dibawah ini\n",
        "\n",
        "hari.insert(1,'kamis') #pelajari lebih lanjut tentang penggunaan insert\n",
        "print(hari)\n",
        "\n",
        "#program ini digunakan untuk menambahkan objek pada list di urutan yang kita inginkan\n",
        "#contoh lainnya :\n",
        "\n",
        "hari.append('Sabtu')\n",
        "print(hari)\n",
        "\n",
        "#namun, outputnya mengikuti kode terakhir yang dijalankan"
      ],
      "metadata": {
        "colab": {
          "base_uri": "https://localhost:8080/"
        },
        "id": "Dv3qmqGh3xVd",
        "outputId": "8e8df7a8-c994-43fe-f496-5922bf1db051"
      },
      "execution_count": null,
      "outputs": [
        {
          "output_type": "stream",
          "name": "stdout",
          "text": [
            "['senin', 'kamis', 'kamis', 'selasa', 'rabu', 'kamis', 'jumat']\n",
            "['senin', 'kamis', 'kamis', 'selasa', 'rabu', 'kamis', 'jumat', 'Sabtu']\n"
          ]
        }
      ]
    },
    {
      "cell_type": "code",
      "source": [
        "#selanjutnya, kita bisa menghilangkan objek pada list\n",
        "#contohnya :\n",
        "\n",
        "hari.remove('rabu')\n",
        "print(hari)"
      ],
      "metadata": {
        "colab": {
          "base_uri": "https://localhost:8080/"
        },
        "id": "cLgGCgzt4X7O",
        "outputId": "98d25f6c-b91e-4144-ac2a-750714876393"
      },
      "execution_count": null,
      "outputs": [
        {
          "output_type": "stream",
          "name": "stdout",
          "text": [
            "['senin', 'selasa', 'kamis', 'jumat']\n"
          ]
        }
      ]
    },
    {
      "cell_type": "code",
      "source": [
        "#untuk mengetahui panjang list, kita bisa menggunakan kode seperti berikut\n",
        "\n",
        "print(len(hari))"
      ],
      "metadata": {
        "colab": {
          "base_uri": "https://localhost:8080/"
        },
        "id": "QIWp4gmM5HHu",
        "outputId": "988a1caf-d64a-4fa9-ff86-d2a0bb514396"
      },
      "execution_count": null,
      "outputs": [
        {
          "output_type": "stream",
          "name": "stdout",
          "text": [
            "4\n"
          ]
        }
      ]
    },
    {
      "cell_type": "code",
      "source": [
        "#4. For Loop\n",
        "\n",
        "#ini digunakan untuk memanggil semua isi list\n",
        "\n",
        "hari = ['senin', 'selasa', 'rabu', 'kamis', 'jumat']\n",
        "for day in hari:\n",
        "  print(day)"
      ],
      "metadata": {
        "colab": {
          "base_uri": "https://localhost:8080/"
        },
        "id": "GBBVrhzS5Rok",
        "outputId": "902950fd-26b3-449f-b41c-2a760f7a692e"
      },
      "execution_count": null,
      "outputs": [
        {
          "output_type": "stream",
          "name": "stdout",
          "text": [
            "senin\n",
            "selasa\n",
            "rabu\n",
            "kamis\n",
            "jumat\n"
          ]
        }
      ]
    },
    {
      "cell_type": "code",
      "source": [
        "#kita bisa juga menggunakan operator while\n",
        "#seperti dibawah ini\n",
        "\n",
        "a=-5\n",
        "while a < len(hari): #jika tanda nya dibalik maka nilainya akan menjadi false\n",
        "  print(hari[a])\n",
        "  a+=1"
      ],
      "metadata": {
        "colab": {
          "base_uri": "https://localhost:8080/"
        },
        "id": "5HF_6mes5-qm",
        "outputId": "eac47b9e-1ed8-49c9-c15c-54eab9d1a4a2"
      },
      "execution_count": null,
      "outputs": [
        {
          "output_type": "stream",
          "name": "stdout",
          "text": [
            "senin\n",
            "selasa\n",
            "rabu\n",
            "kamis\n",
            "jumat\n",
            "senin\n",
            "selasa\n",
            "rabu\n",
            "kamis\n",
            "jumat\n"
          ]
        }
      ]
    },
    {
      "cell_type": "code",
      "source": [
        "\n",
        "#5. Fungsi Range\n",
        "\n",
        "#digunakan untuk menampilkan objek/angka dengan pola yang kita inginkan\n",
        "#untuk fungsi range, perlu dikombinasikan dengan for\n",
        "#perhatikan contoh di bawah ini\n",
        "\n",
        "for a in range(len(hari)):\n",
        "    print(hari[a])"
      ],
      "metadata": {
        "colab": {
          "base_uri": "https://localhost:8080/"
        },
        "id": "BVtIUGu37Eid",
        "outputId": "e37b1503-d881-4ce3-dcdc-66eda8fbe86f"
      },
      "execution_count": null,
      "outputs": [
        {
          "output_type": "stream",
          "name": "stdout",
          "text": [
            "senin\n",
            "selasa\n",
            "rabu\n",
            "kamis\n",
            "jumat\n"
          ]
        }
      ]
    },
    {
      "cell_type": "code",
      "source": [
        "hari = range(7)\n",
        "print(hari)"
      ],
      "metadata": {
        "colab": {
          "base_uri": "https://localhost:8080/"
        },
        "id": "ITlf0OX69blY",
        "outputId": "041a15bb-da24-4b5a-ff50-df91a2ebe641"
      },
      "execution_count": null,
      "outputs": [
        {
          "output_type": "stream",
          "name": "stdout",
          "text": [
            "range(0, 7)\n"
          ]
        }
      ]
    },
    {
      "cell_type": "code",
      "source": [
        "for isi in hari:\n",
        "  print(isi)\n",
        "\n",
        "#program ini akan mencetak semua objek yang terdapat pada list hari"
      ],
      "metadata": {
        "colab": {
          "base_uri": "https://localhost:8080/"
        },
        "id": "BePwJImM9jBV",
        "outputId": "d943f5c0-0f42-453c-eabc-2b6866447068"
      },
      "execution_count": null,
      "outputs": [
        {
          "output_type": "stream",
          "name": "stdout",
          "text": [
            "senin\n",
            "selasa\n",
            "rabu\n",
            "kamis\n",
            "jumat\n"
          ]
        }
      ]
    },
    {
      "cell_type": "code",
      "source": [
        "for isi in range(3,100,5): \n",
        "  #kode ini mencetak angka pertama yaitu 3 sampai 100 dengan urutan yaitu angka pertama ditambah 5, begitu seterusnya\n",
        "  #jika angka 5 diganti dengan angka yang lebih besar dari 100, maka hanya akan keluar angka pertama\n",
        "   print(isi)"
      ],
      "metadata": {
        "colab": {
          "base_uri": "https://localhost:8080/"
        },
        "id": "Z1__9JzL9xVF",
        "outputId": "e530b24d-b98a-41ab-c8d4-82cc1eda7b0b"
      },
      "execution_count": null,
      "outputs": [
        {
          "output_type": "stream",
          "name": "stdout",
          "text": [
            "3\n",
            "8\n",
            "13\n",
            "18\n",
            "23\n",
            "28\n",
            "33\n",
            "38\n",
            "43\n",
            "48\n",
            "53\n",
            "58\n",
            "63\n",
            "68\n",
            "73\n",
            "78\n",
            "83\n",
            "88\n",
            "93\n",
            "98\n"
          ]
        }
      ]
    }
  ]
}