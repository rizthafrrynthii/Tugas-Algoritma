{
  "cells": [
    {
      "cell_type": "markdown",
      "metadata": {
        "id": "view-in-github",
        "colab_type": "text"
      },
      "source": [
        "<a href=\"https://colab.research.google.com/github/rizthafrrynthii/Tugas-Algoritma/blob/main/2208541042_Riztha_Ferryanthi_Maulinda_Tugas_V.ipynb\" target=\"_parent\"><img src=\"https://colab.research.google.com/assets/colab-badge.svg\" alt=\"Open In Colab\"/></a>"
      ]
    },
    {
      "cell_type": "code",
      "source": [],
      "metadata": {
        "id": "vd1UuGmJ2ViY"
      },
      "execution_count": null,
      "outputs": []
    },
    {
      "cell_type": "markdown",
      "metadata": {
        "id": "-cscGu6L2F9w"
      },
      "source": [
        "Pertemuan ke-5. Senin, 03 April 2023\n",
        "\n",
        "## 5.16 ***List 2 Dimensi***"
      ]
    },
    {
      "cell_type": "code",
      "execution_count": null,
      "metadata": {
        "colab": {
          "base_uri": "https://localhost:8080/"
        },
        "id": "JRPfVHC7p2lu",
        "outputId": "96c5feea-3db0-4daf-c4df-7579b95550b1"
      },
      "outputs": [
        {
          "name": "stdout",
          "output_type": "stream",
          "text": [
            "[[1, 2, 3, 4], [5, 6, 7, 8], [9, 10, 11, 12], [13, 14, 15, 16]]\n"
          ]
        }
      ],
      "source": [
        "matrik = [\n",
        "[1,2,3,4], #baris dan kolom dimulai dari 0\n",
        "[5,6,7,8],\n",
        "[9,10,11,12],\n",
        "[13,14,15,16]]\n",
        "print(matrik)"
      ]
    },
    {
      "cell_type": "code",
      "execution_count": null,
      "metadata": {
        "colab": {
          "base_uri": "https://localhost:8080/"
        },
        "id": "u15RvXlKroLJ",
        "outputId": "f1d871ac-c77c-4187-95d8-c1c8b59608e2"
      },
      "outputs": [
        {
          "data": {
            "text/plain": [
              "[1, 2, 3, 4]"
            ]
          },
          "execution_count": 8,
          "metadata": {},
          "output_type": "execute_result"
        }
      ],
      "source": [
        "matrik[0]"
      ]
    },
    {
      "cell_type": "code",
      "execution_count": null,
      "metadata": {
        "colab": {
          "base_uri": "https://localhost:8080/"
        },
        "id": "z28KbQtTswCf",
        "outputId": "a41921d7-7933-460e-943c-18600ca27e20"
      },
      "outputs": [
        {
          "data": {
            "text/plain": [
              "15"
            ]
          },
          "execution_count": 19,
          "metadata": {},
          "output_type": "execute_result"
        }
      ],
      "source": [
        "matrik[3][2]\n",
        "#matrik dengan baris ke[3] dan kolom ke[2]"
      ]
    },
    {
      "cell_type": "code",
      "execution_count": null,
      "metadata": {
        "colab": {
          "base_uri": "https://localhost:8080/"
        },
        "id": "VOlFlSmbs_b5",
        "outputId": "500671f5-ef11-4f67-ca13-e00fd53f1445"
      },
      "outputs": [
        {
          "name": "stdout",
          "output_type": "stream",
          "text": [
            "[[ 1  2  3  4]\n",
            " [ 5  6  7  8]\n",
            " [ 9 10 11 12]\n",
            " [13 14 15 16]]\n"
          ]
        }
      ],
      "source": [
        "import numpy as np       #np = numeric phyton\n",
        "d=np.array([[1,2,3,4],[5,6,7,8],[9,10,11,12],[13,14,15,16]])\n",
        "print(d)"
      ]
    },
    {
      "cell_type": "code",
      "execution_count": null,
      "metadata": {
        "colab": {
          "base_uri": "https://localhost:8080/"
        },
        "id": "k0SX2u9Wtn-3",
        "outputId": "27d3f03f-2acf-4f4b-be1f-b954297a04ea"
      },
      "outputs": [
        {
          "name": "stdout",
          "output_type": "stream",
          "text": [
            "[1, 2, 3, 4]\n",
            "1\n",
            "2\n",
            "3\n",
            "4\n",
            "[5, 6, 7, 8]\n",
            "5\n",
            "6\n",
            "7\n",
            "8\n",
            "[9, 10, 11, 12]\n",
            "9\n",
            "10\n",
            "11\n",
            "12\n",
            "[13, 14, 15, 16]\n",
            "13\n",
            "14\n",
            "15\n",
            "16\n"
          ]
        }
      ],
      "source": [
        "for baris in matrik: #gunakan function for untuk mencetak matrik\n",
        "  print(baris)\n",
        "  for kolom in baris:\n",
        "    print(kolom)"
      ]
    },
    {
      "cell_type": "markdown",
      "metadata": {
        "id": "12n4Dmzjvzgc"
      },
      "source": [
        "## 5.17 ***Tuples*** "
      ]
    },
    {
      "cell_type": "code",
      "execution_count": null,
      "metadata": {
        "colab": {
          "base_uri": "https://localhost:8080/",
          "height": 301
        },
        "id": "CnhQ6Wvxv5zq",
        "outputId": "3c565b60-01f0-46ca-efd3-823f7969996d"
      },
      "outputs": [
        {
          "name": "stdout",
          "output_type": "stream",
          "text": [
            "(1, 2, 3, 4, 5)\n",
            "1\n",
            "(1, 2, 3)\n"
          ]
        },
        {
          "ename": "TypeError",
          "evalue": "ignored",
          "output_type": "error",
          "traceback": [
            "\u001b[0;31m---------------------------------------------------------------------------\u001b[0m",
            "\u001b[0;31mTypeError\u001b[0m                                 Traceback (most recent call last)",
            "\u001b[0;32m<ipython-input-46-d45ddee87536>\u001b[0m in \u001b[0;36m<cell line: 9>\u001b[0;34m()\u001b[0m\n\u001b[1;32m      7\u001b[0m \u001b[0;34m\u001b[0m\u001b[0m\n\u001b[1;32m      8\u001b[0m \u001b[0mnumber\u001b[0m\u001b[0;34m[\u001b[0m\u001b[0;36m0\u001b[0m\u001b[0;34m]\u001b[0m \u001b[0;31m#jika tidak menggunakan function print, maka programnya tidak akan berjalan\u001b[0m\u001b[0;34m\u001b[0m\u001b[0;34m\u001b[0m\u001b[0m\n\u001b[0;32m----> 9\u001b[0;31m \u001b[0mnumber\u001b[0m\u001b[0;34m[\u001b[0m\u001b[0;36m0\u001b[0m\u001b[0;34m]\u001b[0m\u001b[0;34m=\u001b[0m\u001b[0;36m2\u001b[0m\u001b[0;34m\u001b[0m\u001b[0;34m\u001b[0m\u001b[0m\n\u001b[0m\u001b[1;32m     10\u001b[0m \u001b[0mnumber\u001b[0m\u001b[0;34m.\u001b[0m\u001b[0mappend\u001b[0m\u001b[0;34m(\u001b[0m\u001b[0;36m4\u001b[0m\u001b[0;34m)\u001b[0m\u001b[0;34m\u001b[0m\u001b[0;34m\u001b[0m\u001b[0m\n\u001b[1;32m     11\u001b[0m \u001b[0mnumber\u001b[0m\u001b[0;34m.\u001b[0m\u001b[0mremove\u001b[0m\u001b[0;34m(\u001b[0m\u001b[0;36m1\u001b[0m\u001b[0;34m)\u001b[0m\u001b[0;34m\u001b[0m\u001b[0;34m\u001b[0m\u001b[0m\n",
            "\u001b[0;31mTypeError\u001b[0m: 'tuple' object does not support item assignment"
          ]
        }
      ],
      "source": [
        "#tuple sifatnya sensitif terhadap kelompoknya, sehingga isinya tidak dapat dirubah dan dimanipulasi\n",
        "\n",
        "number = (1,2,3,4,5) #seperti biasa, inisialisasi terlebih dahulu\n",
        "print(number)\n",
        "print(number[0]) #index dimulai dari 0\n",
        "print(number[0:3]) #jika ingin memanggil beberapa isi berurutan\n",
        "\n",
        "number[0] #jika tidak menggunakan function print, maka programnya tidak akan berjalan\n",
        "number[0]=2 \n",
        "number.append(4)\n",
        "number.remove(1)\n",
        "#error karena tuple tidak dapat diganti, ditambah dan dikurangi"
      ]
    },
    {
      "cell_type": "code",
      "execution_count": null,
      "metadata": {
        "colab": {
          "base_uri": "https://localhost:8080/"
        },
        "id": "kwTyOwZAyc6g",
        "outputId": "5c932869-2aa6-4db5-de9e-018a3c7d10f8"
      },
      "outputs": [
        {
          "data": {
            "text/plain": [
              "1"
            ]
          },
          "execution_count": 51,
          "metadata": {},
          "output_type": "execute_result"
        }
      ],
      "source": [
        "number.count(2) #selain index, kita juga bisa menggunakan count untuk memanggil anggota number"
      ]
    },
    {
      "cell_type": "code",
      "execution_count": null,
      "metadata": {
        "colab": {
          "base_uri": "https://localhost:8080/"
        },
        "id": "fxPgn0Vm1Tlm",
        "outputId": "107a4604-e069-4c13-cc5e-841ec1657ddf"
      },
      "outputs": [
        {
          "data": {
            "text/plain": [
              "3"
            ]
          },
          "execution_count": 52,
          "metadata": {},
          "output_type": "execute_result"
        }
      ],
      "source": [
        "number.index(4) #selain mennggunakan simbol [] untuk memanggil anggota, kita juga bisa menuliskan index()"
      ]
    },
    {
      "cell_type": "markdown",
      "metadata": {
        "id": "5k9HoFJ71324"
      },
      "source": [
        "## 5.18 ***Dictionaries***"
      ]
    },
    {
      "cell_type": "code",
      "execution_count": null,
      "metadata": {
        "id": "EsDAdtll1-rf"
      },
      "outputs": [],
      "source": [
        "#Dictionaries digunakan jika datanya terkait satu sama lain\n",
        "\n",
        "data_saya = {\n",
        "    \"nama\" : \"Riztha Ferryanthi Maulinda\",\n",
        "    \"umur\" : \"20\",\n",
        "    \"tempat_tinggal\" : \"Denpasar\"\n",
        "}"
      ]
    },
    {
      "cell_type": "code",
      "execution_count": null,
      "metadata": {
        "colab": {
          "base_uri": "https://localhost:8080/",
          "height": 840
        },
        "id": "LPClFlKE38bx",
        "outputId": "46d60f72-cfcd-49d0-d1d9-4f26e5ad1233"
      },
      "outputs": [
        {
          "ename": "NameError",
          "evalue": "ignored",
          "output_type": "error",
          "traceback": [
            "\u001b[0;31m---------------------------------------------------------------------------\u001b[0m",
            "\u001b[0;31mNameError\u001b[0m                                 Traceback (most recent call last)",
            "\u001b[0;32m<ipython-input-1-686994dd76cc>\u001b[0m in \u001b[0;36m<cell line: 1>\u001b[0;34m()\u001b[0m\n\u001b[0;32m----> 1\u001b[0;31m \u001b[0mprint\u001b[0m\u001b[0;34m(\u001b[0m\u001b[0mdata_saya\u001b[0m\u001b[0;34m[\u001b[0m\u001b[0;34m\"nama\"\u001b[0m\u001b[0;34m]\u001b[0m\u001b[0;34m)\u001b[0m\u001b[0;34m\u001b[0m\u001b[0;34m\u001b[0m\u001b[0m\n\u001b[0m\u001b[1;32m      2\u001b[0m \u001b[0mprint\u001b[0m\u001b[0;34m(\u001b[0m\u001b[0mdata_saya\u001b[0m\u001b[0;34m.\u001b[0m\u001b[0mget\u001b[0m\u001b[0;34m[\u001b[0m\u001b[0;34m\"nama\"\u001b[0m\u001b[0;34m]\u001b[0m\u001b[0;34m)\u001b[0m \u001b[0;31m#untuk mencari apakah terdapat \"nama\" di dalam data_saya\u001b[0m\u001b[0;34m\u001b[0m\u001b[0;34m\u001b[0m\u001b[0m\n",
            "\u001b[0;31mNameError\u001b[0m: name 'data_saya' is not defined"
          ]
        }
      ],
      "source": [
        "print(data_saya[\"nama\"])\n",
        "print(data_saya.get[\"nama\"]) #untuk mencari apakah terdapat \"nama\" di dalam data_saya"
      ]
    },
    {
      "cell_type": "code",
      "execution_count": null,
      "metadata": {
        "colab": {
          "base_uri": "https://localhost:8080/"
        },
        "id": "Ug3K35sT5zqr",
        "outputId": "61f03df9-6643-4d5b-b5e8-71bce0f4249b"
      },
      "outputs": [
        {
          "name": "stdout",
          "output_type": "stream",
          "text": [
            "0897654321\n"
          ]
        }
      ],
      "source": [
        "data_saya[\"nomor_WA\"] = '0897654321' #kita bisa menambahkan isi datanya juga\n",
        "print(data_saya[\"nomor_WA\"])"
      ]
    },
    {
      "cell_type": "code",
      "execution_count": null,
      "metadata": {
        "id": "85L04F6N6aXq"
      },
      "outputs": [],
      "source": [
        "#latihan merubah angka menjadi sebutan bilangan tersebut\n",
        "\n",
        "angka = {\n",
        "    \"0\" : \"nol\",\n",
        "    \"1\" : \"satu\",\n",
        "    \"2\" : \"dua\",\n",
        "    \"3\" : \"tiga\",\n",
        "    \"4\" : \"empat\",\n",
        "    \"5\" : \"lima\",\n",
        "    \"6\" : \"enam\",\n",
        "    \"7\" : \"tujuh\",\n",
        "    \"8\" : \"delapan\",\n",
        "    \"9\" : \"sembilan\",\n",
        "    \"10\": \"sepuluh\"\n",
        "}"
      ]
    },
    {
      "cell_type": "code",
      "execution_count": null,
      "metadata": {
        "colab": {
          "base_uri": "https://localhost:8080/"
        },
        "id": "EpGtv1Wr76xf",
        "outputId": "4bf1d13c-4171-40b0-fb95-c83e4716ce8d"
      },
      "outputs": [
        {
          "name": "stdout",
          "output_type": "stream",
          "text": [
            "Masukan nomor WA mu : 081234567890\n",
            "nol delapan satu dua tiga empat lima enam tujuh delapan sembilan nol \n"
          ]
        }
      ],
      "source": [
        "nomor_WA = input(\"Masukan nomor WA mu : \")\n",
        "nomor_angka = \"\"\n",
        "for isi in nomor_WA :\n",
        "    nomor_angka += angka.get(isi) + \" \"\n",
        "print(nomor_angka)   #jika dibuat menjorok, maka akan mencetak data seperti segitiga pascal                          "
      ]
    },
    {
      "cell_type": "markdown",
      "metadata": {
        "id": "4v6vpjxM9wFX"
      },
      "source": [
        "## 5.19 **Fungsi dalam** ***Phyton***"
      ]
    },
    {
      "cell_type": "code",
      "execution_count": null,
      "metadata": {
        "id": "YiDaN-C5-mIn"
      },
      "outputs": [],
      "source": [
        "def full_name(first_name, last_name):\n",
        "    print(f\"Nama lengkapnya adalah {first_name} {last_name}\")"
      ]
    },
    {
      "cell_type": "code",
      "execution_count": null,
      "metadata": {
        "colab": {
          "base_uri": "https://localhost:8080/"
        },
        "id": "GL7hDAl5_y-7",
        "outputId": "3893f006-214b-466a-c09d-216d789c72f3"
      },
      "outputs": [
        {
          "name": "stdout",
          "output_type": "stream",
          "text": [
            "nama depanmu adalah riztha\n",
            "nama belakangmu adalah ferryanthi\n",
            "Nama lengkapnya adalah riztha ferryanthi\n"
          ]
        }
      ],
      "source": [
        "first_name = input(\"nama depanmu adalah \")\n",
        "last_name = input(\"nama belakangmu adalah \")\n",
        "full_name(first_name,last_name)"
      ]
    },
    {
      "cell_type": "markdown",
      "metadata": {
        "id": "-MLofXDhAYNf"
      },
      "source": [
        "## 5.19.1 **Tugas Fungsi pada** ***Phyton***"
      ]
    },
    {
      "cell_type": "code",
      "execution_count": null,
      "metadata": {
        "id": "7PojPOflAiXh"
      },
      "outputs": [],
      "source": [
        "def waktu_sampai(jarak,kecepatan): #yang diketahui\n",
        "    waktu = jarak/kecepatan #rumus mencari waktu_sampai\n",
        "    print(waktu)"
      ]
    },
    {
      "cell_type": "code",
      "execution_count": null,
      "metadata": {
        "id": "rgIwxvVHBoMs"
      },
      "outputs": [],
      "source": [
        "def waktu_tempuh(jarak,kecepatan):\n",
        "    waktu = jarak/kecepatan\n",
        "    return waktu"
      ]
    },
    {
      "cell_type": "code",
      "execution_count": null,
      "metadata": {
        "colab": {
          "base_uri": "https://localhost:8080/"
        },
        "id": "s_FumyjFB-wY",
        "outputId": "91f6fff9-bddb-4556-d658-a6205289cb1a"
      },
      "outputs": [
        {
          "name": "stdout",
          "output_type": "stream",
          "text": [
            "10.0\n"
          ]
        }
      ],
      "source": [
        "waktu_sampai(50,5)"
      ]
    },
    {
      "cell_type": "code",
      "execution_count": null,
      "metadata": {
        "colab": {
          "base_uri": "https://localhost:8080/"
        },
        "id": "MFTioVoyCJrJ",
        "outputId": "b01a4237-eff1-4ad6-b233-7a4fdd5a9564"
      },
      "outputs": [
        {
          "data": {
            "text/plain": [
              "0.1"
            ]
          },
          "execution_count": 88,
          "metadata": {},
          "output_type": "execute_result"
        }
      ],
      "source": [
        "waktu_tempuh(5,50)"
      ]
    },
    {
      "cell_type": "code",
      "execution_count": null,
      "metadata": {
        "colab": {
          "base_uri": "https://localhost:8080/"
        },
        "id": "OBShykL0CQA8",
        "outputId": "b6534d63-9702-4ea1-cdd7-0bb71f5e1f15"
      },
      "outputs": [
        {
          "name": "stdout",
          "output_type": "stream",
          "text": [
            "10.0\n",
            "None\n"
          ]
        }
      ],
      "source": [
        "a = waktu_sampai(50,5)\n",
        "print(a)"
      ]
    },
    {
      "cell_type": "code",
      "execution_count": null,
      "metadata": {
        "colab": {
          "base_uri": "https://localhost:8080/"
        },
        "id": "iy0DMgxMCdjV",
        "outputId": "5cb42001-c00b-485e-b977-42ba6f8600c7"
      },
      "outputs": [
        {
          "name": "stdout",
          "output_type": "stream",
          "text": [
            "0.1\n"
          ]
        }
      ],
      "source": [
        "b = waktu_tempuh(5,50)\n",
        "print(b)"
      ]
    },
    {
      "cell_type": "code",
      "execution_count": null,
      "metadata": {
        "id": "zZyO0bhOC0Cz"
      },
      "outputs": [],
      "source": [
        "#latihan membuat program untuk menghitung luas segitiga, lingkaran, persegi dan persegi panjang\n",
        "\n",
        "import numpy as np\n",
        "\n",
        "def luas_segitiga(alas,tinggi):\n",
        "    luas = (1/2)*alas*tinggi\n",
        "    return luas\n",
        "def luas_lingkaran(jari_jari):\n",
        "    luas = np.pi*(jari_jari**2)\n",
        "    return luas\n",
        "def luas_persegi(sisi):\n",
        "    luas = sisi**2\n",
        "    return luas\n",
        "def luas_persegi_panjang(panjang,lebar):\n",
        "    luas = panjang*lebar\n",
        "    return luas"
      ]
    },
    {
      "cell_type": "code",
      "execution_count": null,
      "metadata": {
        "id": "qmPMTcEyERWr"
      },
      "outputs": [],
      "source": [
        "jenis_bidang = input(\"Apa bidangnya? \")\n",
        "if jenis_bidang.upper() == 'SEGITIGA':\n",
        "   alas = float(input('Berapakah panjang alasnya? '))\n",
        "   tinggi = float(input('Berapakah tingginya? '))\n",
        "   luas = luas_segitiga(alas,tinggi)\n",
        "   print(f\"Luas {jenis_bidang} adalah {luas}\")\n",
        "elif jenis_bidang.upper() == 'LINGKARAN':\n",
        "     jari_jari = float(input('Berapakah panjang jari-jarinya? '))\n",
        "     luas = luas_lingkaran(jari_jari)\n",
        "     print(f\"Luas {jenis_bidang} adalah {luas}\")\n",
        "elif (jenis_bidang.upper() == 'PERSEGI') or (jenis_bidang.upper() == 'BUJUR SANGKAR'):\n",
        "     sisi = float(input('Berapakah panjang sisinya? '))\n",
        "     luas = luas_persegi(sisi)\n",
        "     print(f\"Luas {jenis_bidang} adalah {luas}\")\n",
        "elif jenis_bidang.upper() == 'PERSEGI PANJANG':\n",
        "     panjang = float(input('Berapakah panjangnya? '))\n",
        "     lebar = float(input('Berapakah lebarnya? '))\n",
        "     luas = luas_persegi_panjang(panjang,lebar)\n",
        "     print(f\"Luas {jenis_bidang} adalah {luas}\")\n",
        "else:\n",
        "     print(f\"Maaf bidang {jenis_bidang} yang anda masukkan tidak ada\")\n",
        "     print(\"Pilihan hanya ada SEGITIGA, LINGKARAN  PERSEGI dan PERSEGI PANJANG.\")\n",
        "     print(\"Terimakasih\")"
      ]
    },
    {
      "cell_type": "markdown",
      "metadata": {
        "id": "d5GQIDDbaLOX"
      },
      "source": [
        "## 5.20 **Numpy**"
      ]
    },
    {
      "cell_type": "code",
      "execution_count": null,
      "metadata": {
        "id": "-Xfa03-Pa5OF"
      },
      "outputs": [],
      "source": [
        "#pertama-tama kita perlu memanggil numpy seperti berikut\n",
        "\n",
        "import pandas as pd"
      ]
    },
    {
      "cell_type": "markdown",
      "metadata": {
        "id": "o_naaq4ubTFe"
      },
      "source": [
        "5.20.1 **Perintah Dasar pada Numpy**"
      ]
    },
    {
      "cell_type": "code",
      "execution_count": null,
      "metadata": {
        "colab": {
          "base_uri": "https://localhost:8080/"
        },
        "id": "6xTs4CUYbdYb",
        "outputId": "c375f9c8-4ff0-4bb4-a6ee-47827c6d0620"
      },
      "outputs": [
        {
          "name": "stdout",
          "output_type": "stream",
          "text": [
            "[0 1 2 3 4]\n",
            "[[5 6 7 8]\n",
            " [9 8 7 6]]\n",
            "[[[0 1 2 3]\n",
            "  [4 5 6 7]]\n",
            "\n",
            " [[8 9 8 7]\n",
            "  [6 5 4 3]]\n",
            "\n",
            " [[1 2 3 4]\n",
            "  [5 6 7 8]]]\n"
          ]
        }
      ],
      "source": [
        "#memanggil numpy\n",
        "\n",
        "import numpy as np\n",
        "\n",
        "a = np.array([0,1,2,3,4])\n",
        "print(a)\n",
        "\n",
        "b = np.array([[5,6,7,8],[9,8,7,6]])\n",
        "print(b)\n",
        "\n",
        "c = np.array([[[0,1,2,3],[4,5,6,7]],\n",
        "              [[8,9,8,7],[6,5,4,3]],\n",
        "              [[1,2,3,4],[5,6,7,8]]])\n",
        "print(c)"
      ]
    },
    {
      "cell_type": "code",
      "execution_count": null,
      "metadata": {
        "colab": {
          "base_uri": "https://localhost:8080/"
        },
        "id": "C_IEKQpOdjfU",
        "outputId": "d13ad3a3-4560-4f36-b0e7-9355f5a7ba2c"
      },
      "outputs": [
        {
          "data": {
            "text/plain": [
              "1"
            ]
          },
          "execution_count": 10,
          "metadata": {},
          "output_type": "execute_result"
        }
      ],
      "source": [
        "#untuk mengetahui dimensinya gunakan perintah berikut\n",
        "\n",
        "a.ndim"
      ]
    },
    {
      "cell_type": "code",
      "execution_count": null,
      "metadata": {
        "colab": {
          "base_uri": "https://localhost:8080/"
        },
        "id": "EkH8HPljeIts",
        "outputId": "32b94689-03d6-4a49-b187-3c7cd24eee79"
      },
      "outputs": [
        {
          "data": {
            "text/plain": [
              "2"
            ]
          },
          "execution_count": 11,
          "metadata": {},
          "output_type": "execute_result"
        }
      ],
      "source": [
        "b.ndim"
      ]
    },
    {
      "cell_type": "code",
      "execution_count": null,
      "metadata": {
        "colab": {
          "base_uri": "https://localhost:8080/"
        },
        "id": "0xEZnCMLeKhX",
        "outputId": "a2e715e9-475a-4622-c989-d8188a7dcfb1"
      },
      "outputs": [
        {
          "data": {
            "text/plain": [
              "3"
            ]
          },
          "execution_count": 12,
          "metadata": {},
          "output_type": "execute_result"
        }
      ],
      "source": [
        "c.ndim"
      ]
    },
    {
      "cell_type": "code",
      "execution_count": null,
      "metadata": {
        "colab": {
          "base_uri": "https://localhost:8080/"
        },
        "id": "K-Gz-iFueUGH",
        "outputId": "fbe8bddf-51af-4354-89ec-da2667966a3e"
      },
      "outputs": [
        {
          "data": {
            "text/plain": [
              "(5,)"
            ]
          },
          "execution_count": 13,
          "metadata": {},
          "output_type": "execute_result"
        }
      ],
      "source": [
        "#lalu gunakan perintah dibawah ini untuk mengetahui ukuran variabelnya\n",
        "\n",
        "a.shape"
      ]
    },
    {
      "cell_type": "code",
      "execution_count": null,
      "metadata": {
        "colab": {
          "base_uri": "https://localhost:8080/"
        },
        "id": "U4C2wpcSemKL",
        "outputId": "6e778604-a965-4da0-ab41-248315dcf1e7"
      },
      "outputs": [
        {
          "data": {
            "text/plain": [
              "(2, 4)"
            ]
          },
          "execution_count": 14,
          "metadata": {},
          "output_type": "execute_result"
        }
      ],
      "source": [
        "b.shape"
      ]
    },
    {
      "cell_type": "code",
      "execution_count": null,
      "metadata": {
        "colab": {
          "base_uri": "https://localhost:8080/"
        },
        "id": "ykCS82Vueof3",
        "outputId": "935e4185-623b-413a-db66-76dc8e882e69"
      },
      "outputs": [
        {
          "data": {
            "text/plain": [
              "(3, 2, 4)"
            ]
          },
          "execution_count": 15,
          "metadata": {},
          "output_type": "execute_result"
        }
      ],
      "source": [
        "c.shape"
      ]
    },
    {
      "cell_type": "markdown",
      "metadata": {
        "id": "_ty3OvaBcsEV"
      },
      "source": [
        "5.20.2 **Memanggil Anggota, Kolom dan Baris dengan Numpy**"
      ]
    },
    {
      "cell_type": "code",
      "execution_count": null,
      "metadata": {
        "colab": {
          "base_uri": "https://localhost:8080/"
        },
        "id": "8CPJC4Cleq9r",
        "outputId": "30938c48-d67d-4b5b-fb06-5a277542afb4"
      },
      "outputs": [
        {
          "name": "stdout",
          "output_type": "stream",
          "text": [
            "[[ 1  2  3  4]\n",
            " [ 5  6  7  8]\n",
            " [ 9 10 11 12]]\n"
          ]
        }
      ],
      "source": [
        "d = np.array([[1,2,3,4],[5,6,7,8],[9,10,11,12]]) #baris dimulai dari 0\n",
        "print(d)"
      ]
    },
    {
      "cell_type": "code",
      "execution_count": null,
      "metadata": {
        "colab": {
          "base_uri": "https://localhost:8080/"
        },
        "id": "Q9YnyZXMndiX",
        "outputId": "ce2afcb9-8ada-4663-92f2-b96104d179ce"
      },
      "outputs": [
        {
          "data": {
            "text/plain": [
              "4"
            ]
          },
          "execution_count": 17,
          "metadata": {},
          "output_type": "execute_result"
        }
      ],
      "source": [
        "d[0,3] #baris ke-0, kolom ke 3"
      ]
    },
    {
      "cell_type": "code",
      "execution_count": null,
      "metadata": {
        "colab": {
          "base_uri": "https://localhost:8080/"
        },
        "id": "jhHARVm0nsg2",
        "outputId": "7084e055-c76d-42e3-cf86-bfe20b44187d"
      },
      "outputs": [
        {
          "data": {
            "text/plain": [
              "array([5, 6, 7, 8])"
            ]
          },
          "execution_count": 18,
          "metadata": {},
          "output_type": "execute_result"
        }
      ],
      "source": [
        "d[1,:] #memanggil baris ke-1 saja, : menandakan bahwa tidak memanggil kolom tertentu"
      ]
    },
    {
      "cell_type": "code",
      "execution_count": null,
      "metadata": {
        "colab": {
          "base_uri": "https://localhost:8080/"
        },
        "id": "epQjhdBjoa7n",
        "outputId": "679b2da0-3477-4fe8-fbe0-e6674548edc4"
      },
      "outputs": [
        {
          "data": {
            "text/plain": [
              "array([ 3,  7, 11])"
            ]
          },
          "execution_count": 19,
          "metadata": {},
          "output_type": "execute_result"
        }
      ],
      "source": [
        "d[:,2] #memanggil kolom ke-2 saja dan mengabaikan barisnya"
      ]
    },
    {
      "cell_type": "code",
      "execution_count": null,
      "metadata": {
        "colab": {
          "base_uri": "https://localhost:8080/"
        },
        "id": "IRUxSMxFo9MX",
        "outputId": "55ddb18c-4933-46d2-eb16-046207c79d24"
      },
      "outputs": [
        {
          "data": {
            "text/plain": [
              "array([2, 3, 4])"
            ]
          },
          "execution_count": 27,
          "metadata": {},
          "output_type": "execute_result"
        }
      ],
      "source": [
        "d[0,1:4] #memanggil baris ke-0, dengan kolom 1 sampai 4"
      ]
    },
    {
      "cell_type": "code",
      "execution_count": null,
      "metadata": {
        "colab": {
          "base_uri": "https://localhost:8080/"
        },
        "id": "_MaolXBjqGKZ",
        "outputId": "79973949-af38-4c74-edcd-ac70ea89450c"
      },
      "outputs": [
        {
          "data": {
            "text/plain": [
              "array([1, 2, 3, 4])"
            ]
          },
          "execution_count": 31,
          "metadata": {},
          "output_type": "execute_result"
        }
      ],
      "source": [
        "d[0,0:4:1] #memanggil baris ke-0 dan kolom dari 0 sampai 4 dengan jarak 1"
      ]
    },
    {
      "cell_type": "code",
      "execution_count": null,
      "metadata": {
        "colab": {
          "base_uri": "https://localhost:8080/"
        },
        "id": "gC8BUAvyqipU",
        "outputId": "c4cce6ce-fa18-44d8-ca6c-3b3644e31724"
      },
      "outputs": [
        {
          "name": "stdout",
          "output_type": "stream",
          "text": [
            "[[ 1  2  3  4]\n",
            " [ 5  6  0  8]\n",
            " [ 9 10 11 12]]\n"
          ]
        }
      ],
      "source": [
        "#kita juga bisa mengubah angka dalam list dengan perintah seperti berikut\n",
        "\n",
        "d[1,2] = 0 #ubah baris ke 1, kolom ke 2 dengan angka 0\n",
        "print(d)"
      ]
    },
    {
      "cell_type": "markdown",
      "metadata": {
        "id": "juqiJtpmrAre"
      },
      "source": [
        "5.20.3 **Matrix pada Numpy**"
      ]
    },
    {
      "cell_type": "code",
      "execution_count": null,
      "metadata": {
        "colab": {
          "base_uri": "https://localhost:8080/"
        },
        "id": "C7-oERoyqhNZ",
        "outputId": "31a20462-de54-4e24-9140-91cb8c59160e"
      },
      "outputs": [
        {
          "data": {
            "text/plain": [
              "array([[1., 1., 1.],\n",
              "       [1., 1., 1.]])"
            ]
          },
          "execution_count": 35,
          "metadata": {},
          "output_type": "execute_result"
        }
      ],
      "source": [
        "#kita bisa membuat berbagai jenis matrix dengan perintah numpy sebagai berikut\n",
        "\n",
        "np.ones((2,3)) #perintah ini akan mencetak matrix angka 1 dengan 2 baris dan 3 kolom"
      ]
    },
    {
      "cell_type": "code",
      "execution_count": null,
      "metadata": {
        "colab": {
          "base_uri": "https://localhost:8080/"
        },
        "id": "cj9Bm_L_rnn7",
        "outputId": "9b2cbafb-1278-4fc9-e3ae-99af3ed45183"
      },
      "outputs": [
        {
          "data": {
            "text/plain": [
              "array([[0., 0.],\n",
              "       [0., 0.],\n",
              "       [0., 0.]])"
            ]
          },
          "execution_count": 36,
          "metadata": {},
          "output_type": "execute_result"
        }
      ],
      "source": [
        "np.zeros((3,2)) #matrix 0 dengan 3 baris dan 2 kolom"
      ]
    },
    {
      "cell_type": "code",
      "execution_count": null,
      "metadata": {
        "colab": {
          "base_uri": "https://localhost:8080/"
        },
        "id": "_f3pwSjFr6dI",
        "outputId": "9985403b-4372-40f5-e8fe-69d6b5f265b1"
      },
      "outputs": [
        {
          "data": {
            "text/plain": [
              "array([[1., 0., 0., 0.],\n",
              "       [0., 1., 0., 0.],\n",
              "       [0., 0., 1., 0.],\n",
              "       [0., 0., 0., 1.]])"
            ]
          },
          "execution_count": 37,
          "metadata": {},
          "output_type": "execute_result"
        }
      ],
      "source": [
        "np.identity(4) #mencetak matrix identitas 4×4 atau bujur sangkar"
      ]
    },
    {
      "cell_type": "code",
      "execution_count": null,
      "metadata": {
        "colab": {
          "base_uri": "https://localhost:8080/"
        },
        "id": "PryZPpIpsJxe",
        "outputId": "c0e90f6c-7c1d-402a-8468-3690e8ad2c0c"
      },
      "outputs": [
        {
          "data": {
            "text/plain": [
              "array([[[1., 1., 1., 1.],\n",
              "        [1., 1., 1., 1.],\n",
              "        [1., 1., 1., 1.]],\n",
              "\n",
              "       [[1., 1., 1., 1.],\n",
              "        [1., 1., 1., 1.],\n",
              "        [1., 1., 1., 1.]]])"
            ]
          },
          "execution_count": 38,
          "metadata": {},
          "output_type": "execute_result"
        }
      ],
      "source": [
        "np.ones((2,3,4)) #mencetak 2 matrix dengan masing-masing matrix memiliki 3 baris dan 4 kolom"
      ]
    },
    {
      "cell_type": "code",
      "execution_count": null,
      "metadata": {
        "colab": {
          "base_uri": "https://localhost:8080/"
        },
        "id": "D03A0r1LsYzN",
        "outputId": "632ca871-65a4-4776-f91a-3914573657fd"
      },
      "outputs": [
        {
          "data": {
            "text/plain": [
              "array([[9, 9],\n",
              "       [9, 9],\n",
              "       [9, 9]])"
            ]
          },
          "execution_count": 39,
          "metadata": {},
          "output_type": "execute_result"
        }
      ],
      "source": [
        "np.full((3,2),9) #mencetak matrix 3 baris 2 kolom yang didalamnya penuh dengan angka 9"
      ]
    },
    {
      "cell_type": "code",
      "execution_count": null,
      "metadata": {
        "colab": {
          "base_uri": "https://localhost:8080/"
        },
        "id": "paN64mFssmWt",
        "outputId": "02371474-4a03-4e83-e94c-c51cd5beff76"
      },
      "outputs": [
        {
          "data": {
            "text/plain": [
              "array([[0.71792434, 0.76578412, 0.49615114],\n",
              "       [0.07144967, 0.86508805, 0.30498294],\n",
              "       [0.99544684, 0.06572361, 0.63620105],\n",
              "       [0.0185739 , 0.82147985, 0.32757024]])"
            ]
          },
          "execution_count": 40,
          "metadata": {},
          "output_type": "execute_result"
        }
      ],
      "source": [
        "np.random.rand(4,3) #mencetak matrix 4 baris 3 kolom dengan anggota bebas"
      ]
    },
    {
      "cell_type": "code",
      "execution_count": null,
      "metadata": {
        "colab": {
          "base_uri": "https://localhost:8080/"
        },
        "id": "uAblH_FptATb",
        "outputId": "7d06f203-dc40-4c0d-b6d1-6bc71fd9dbd2"
      },
      "outputs": [
        {
          "data": {
            "text/plain": [
              "array([[9, 4, 2, 9],\n",
              "       [1, 4, 5, 3],\n",
              "       [1, 2, 5, 1]])"
            ]
          },
          "execution_count": 42,
          "metadata": {},
          "output_type": "execute_result"
        }
      ],
      "source": [
        "np.random.randint(1,10,size=(3,4))\n",
        "\n",
        "#perintah diatas digunakan untuk mencetak matrix berukuran 3×4 dengan anggota random mulai dari 1 sampai 10"
      ]
    },
    {
      "cell_type": "markdown",
      "metadata": {
        "id": "VCWFjMvvtual"
      },
      "source": [
        "5.20.4 ***Copy* pada Numpy**"
      ]
    },
    {
      "cell_type": "code",
      "execution_count": null,
      "metadata": {
        "colab": {
          "base_uri": "https://localhost:8080/"
        },
        "id": "0ksVs_lYtVhJ",
        "outputId": "ed77b254-4b01-448e-8784-65c940a4effd"
      },
      "outputs": [
        {
          "name": "stdout",
          "output_type": "stream",
          "text": [
            "[1 2 3 4 5]\n"
          ]
        }
      ],
      "source": [
        "import numpy as np\n",
        "\n",
        "a = np.array([1,2,3,4,5])\n",
        "print(a)"
      ]
    },
    {
      "cell_type": "code",
      "execution_count": null,
      "metadata": {
        "colab": {
          "base_uri": "https://localhost:8080/"
        },
        "id": "CEjUpx-poUjm",
        "outputId": "cb468cee-c243-4f76-e732-2b04246b99a5"
      },
      "outputs": [
        {
          "name": "stdout",
          "output_type": "stream",
          "text": [
            "[1 2 3 4 5]\n"
          ]
        }
      ],
      "source": [
        "b = a\n",
        "print(b)"
      ]
    },
    {
      "cell_type": "code",
      "execution_count": null,
      "metadata": {
        "colab": {
          "base_uri": "https://localhost:8080/"
        },
        "id": "xpA8C1fWob2a",
        "outputId": "54adcae3-0b4c-4a72-d802-3c401f93488b"
      },
      "outputs": [
        {
          "name": "stdout",
          "output_type": "stream",
          "text": [
            "[10  2  3  4  5]\n"
          ]
        }
      ],
      "source": [
        "b[0] = 10\n",
        "print(b)"
      ]
    },
    {
      "cell_type": "code",
      "execution_count": null,
      "metadata": {
        "colab": {
          "base_uri": "https://localhost:8080/"
        },
        "id": "by3S8qdfoiWr",
        "outputId": "fba8f453-7780-459f-b4e2-23e6c42cc168"
      },
      "outputs": [
        {
          "name": "stdout",
          "output_type": "stream",
          "text": [
            "[10  2  3  4  5]\n"
          ]
        }
      ],
      "source": [
        "#setelah kode diatas dijalankan, kita akan kembali mencetak a\n",
        "\n",
        "print(a)\n",
        "\n",
        "#dari sini dapat dilihat outputnya berbeda dan malah mengikuti kode sebelumnya\n",
        "#oleh karena itu dibutuhkan perintah copy untuk menghindari perubahan pada variabel awal"
      ]
    },
    {
      "cell_type": "code",
      "execution_count": null,
      "metadata": {
        "colab": {
          "base_uri": "https://localhost:8080/"
        },
        "id": "kWuk4WwHpK6I",
        "outputId": "2fdf9897-773b-45b0-bdb1-9e8901eac789"
      },
      "outputs": [
        {
          "name": "stdout",
          "output_type": "stream",
          "text": [
            "[1 2 3 4 5]\n"
          ]
        }
      ],
      "source": [
        "#perhatikan contoh dibawah ini\n",
        "\n",
        "import numpy as np\n",
        "\n",
        "c = np.array([1,2,3,4,5])\n",
        "print(c)"
      ]
    },
    {
      "cell_type": "code",
      "execution_count": null,
      "metadata": {
        "colab": {
          "base_uri": "https://localhost:8080/"
        },
        "id": "TIJFEPW7pdIt",
        "outputId": "e9c45015-68b2-4a08-f0a1-09d3edc1acd3"
      },
      "outputs": [
        {
          "name": "stdout",
          "output_type": "stream",
          "text": [
            "[1 2 3 4 5]\n"
          ]
        }
      ],
      "source": [
        "d = c.copy()  #gunakan perintah copy\n",
        "print(d)"
      ]
    },
    {
      "cell_type": "code",
      "execution_count": null,
      "metadata": {
        "colab": {
          "base_uri": "https://localhost:8080/"
        },
        "id": "fWrGvz4Uplqh",
        "outputId": "bf5a80bb-2e66-4c39-be41-d37139f77798"
      },
      "outputs": [
        {
          "name": "stdout",
          "output_type": "stream",
          "text": [
            "[10  2  3  4  5]\n"
          ]
        }
      ],
      "source": [
        "d[0] = 10\n",
        "print(d)"
      ]
    },
    {
      "cell_type": "code",
      "execution_count": null,
      "metadata": {
        "colab": {
          "base_uri": "https://localhost:8080/"
        },
        "id": "-w56PLgkprqf",
        "outputId": "f4b7a3e7-9489-4ad0-f933-e1c1df06d54d"
      },
      "outputs": [
        {
          "name": "stdout",
          "output_type": "stream",
          "text": [
            "[1 2 3 4 5]\n"
          ]
        }
      ],
      "source": [
        "#lalu cetak c dan akan muncul variabel awalnya\n",
        "\n",
        "print(c)"
      ]
    },
    {
      "cell_type": "markdown",
      "metadata": {
        "id": "OEzG3b9YqH9-"
      },
      "source": [
        "5.20.5 **Operasi Matematika pada *Numpy***"
      ]
    },
    {
      "cell_type": "code",
      "execution_count": null,
      "metadata": {
        "id": "irrYzbljqOQa"
      },
      "outputs": [],
      "source": [
        "a+2 #penjumlahan\n",
        "a-2 #pengurangan\n",
        "a*2 #perkalian\n",
        "a/2 #pembagian\n",
        "a**2 #perpangkatan"
      ]
    },
    {
      "cell_type": "code",
      "execution_count": null,
      "metadata": {
        "colab": {
          "base_uri": "https://localhost:8080/"
        },
        "id": "zzlKkskSqzDT",
        "outputId": "a98270ce-8852-44b2-c54f-5fcea5ba52ca"
      },
      "outputs": [
        {
          "name": "stdout",
          "output_type": "stream",
          "text": [
            "[ 6  7  8  9 10]\n"
          ]
        }
      ],
      "source": [
        "import numpy as np\n",
        "\n",
        "b = np.array([6,7,8,9,10])\n",
        "print(b)"
      ]
    },
    {
      "cell_type": "code",
      "execution_count": null,
      "metadata": {
        "colab": {
          "base_uri": "https://localhost:8080/"
        },
        "id": "Tcx1H6KHrCKz",
        "outputId": "475e1de9-cc24-4b0a-8998-8791c159ec7e"
      },
      "outputs": [
        {
          "data": {
            "text/plain": [
              "array([60466176,       49,      512,     6561,   100000])"
            ]
          },
          "execution_count": 13,
          "metadata": {},
          "output_type": "execute_result"
        }
      ],
      "source": [
        "a+b\n",
        "a-b\n",
        "a*b\n",
        "a/b\n",
        "b**a"
      ]
    },
    {
      "cell_type": "code",
      "execution_count": null,
      "metadata": {
        "colab": {
          "base_uri": "https://localhost:8080/"
        },
        "id": "P6zBtBs-rokV",
        "outputId": "0ffdd4ac-fb12-4a99-ae3b-c05faaf37c0e"
      },
      "outputs": [
        {
          "data": {
            "text/plain": [
              "array([ 0.64836083, -2.18503986, -0.14254654,  1.15782128, -3.38051501])"
            ]
          },
          "execution_count": 16,
          "metadata": {},
          "output_type": "execute_result"
        }
      ],
      "source": [
        "np.sin(a)\n",
        "np.cos(a)\n",
        "np.tan(a)"
      ]
    },
    {
      "cell_type": "code",
      "execution_count": null,
      "metadata": {
        "colab": {
          "base_uri": "https://localhost:8080/"
        },
        "id": "TaF-KOBEr2J_",
        "outputId": "3cdcc1ea-e358-4e41-bb76-acc30c7f1f3d"
      },
      "outputs": [
        {
          "data": {
            "text/plain": [
              "array([3.16227766, 1.41421356, 1.73205081, 2.        , 2.23606798])"
            ]
          },
          "execution_count": 18,
          "metadata": {},
          "output_type": "execute_result"
        }
      ],
      "source": [
        "np.sinh(a)\n",
        "np.cosh(a)\n",
        "np.tanh(a)\n",
        "np.sqrt(a)"
      ]
    },
    {
      "cell_type": "markdown",
      "metadata": {
        "id": "Q1N0PCiVsB40"
      },
      "source": [
        "5.20.6 **Perkalian Matrix pada *Numpy***"
      ]
    },
    {
      "cell_type": "code",
      "execution_count": null,
      "metadata": {
        "colab": {
          "base_uri": "https://localhost:8080/"
        },
        "id": "xR5q_Q38r6vs",
        "outputId": "4eabc202-60a4-448c-dd25-e46cd33f3571"
      },
      "outputs": [
        {
          "name": "stdout",
          "output_type": "stream",
          "text": [
            "[[1 2 3 4]\n",
            " [5 6 7 8]]\n"
          ]
        }
      ],
      "source": [
        "import numpy as np\n",
        "\n",
        "a = np.array([[1,2,3,4],[5,6,7,8]])\n",
        "print(a)"
      ]
    },
    {
      "cell_type": "code",
      "execution_count": null,
      "metadata": {
        "colab": {
          "base_uri": "https://localhost:8080/"
        },
        "id": "ldzFcah9s1VA",
        "outputId": "169ed3e7-d643-4f9d-ab13-a67742ca2077"
      },
      "outputs": [
        {
          "name": "stdout",
          "output_type": "stream",
          "text": [
            "[[ 9 10 11 12]\n",
            " [13 14 15 16]]\n"
          ]
        }
      ],
      "source": [
        "b = np.array([[9,10,11,12],[13,14,15,16]])\n",
        "print(b)"
      ]
    },
    {
      "cell_type": "code",
      "execution_count": null,
      "metadata": {
        "colab": {
          "base_uri": "https://localhost:8080/"
        },
        "id": "0wMRd3tOtLLT",
        "outputId": "6799b68b-430f-4e2c-e4da-729734e14577"
      },
      "outputs": [
        {
          "name": "stdout",
          "output_type": "stream",
          "text": [
            "[[  9  20  33  48]\n",
            " [ 65  84 105 128]]\n"
          ]
        }
      ],
      "source": [
        "c = a*b  #mengalikan matriks a dan b\n",
        "print(c)"
      ]
    },
    {
      "cell_type": "code",
      "execution_count": null,
      "metadata": {
        "colab": {
          "base_uri": "https://localhost:8080/",
          "height": 288
        },
        "id": "GjoOESGstUp_",
        "outputId": "db092e07-ef06-4e73-87e2-4e6830b1c7d2"
      },
      "outputs": [
        {
          "ename": "ValueError",
          "evalue": "ignored",
          "output_type": "error",
          "traceback": [
            "\u001b[0;31m---------------------------------------------------------------------------\u001b[0m",
            "\u001b[0;31mValueError\u001b[0m                                Traceback (most recent call last)",
            "\u001b[0;32m<ipython-input-24-717f61d01086>\u001b[0m in \u001b[0;36m<cell line: 1>\u001b[0;34m()\u001b[0m\n\u001b[0;32m----> 1\u001b[0;31m \u001b[0md\u001b[0m \u001b[0;34m=\u001b[0m \u001b[0mnp\u001b[0m\u001b[0;34m.\u001b[0m\u001b[0mmatmul\u001b[0m\u001b[0;34m(\u001b[0m\u001b[0ma\u001b[0m\u001b[0;34m,\u001b[0m\u001b[0mb\u001b[0m\u001b[0;34m)\u001b[0m\u001b[0;34m\u001b[0m\u001b[0;34m\u001b[0m\u001b[0m\n\u001b[0m",
            "\u001b[0;31mValueError\u001b[0m: matmul: Input operand 1 has a mismatch in its core dimension 0, with gufunc signature (n?,k),(k,m?)->(n?,m?) (size 2 is different from 4)"
          ]
        }
      ],
      "source": [
        "d = np.matmul(a,b) #error karena tidak menggunakan perintah print"
      ]
    },
    {
      "cell_type": "code",
      "execution_count": null,
      "metadata": {
        "colab": {
          "base_uri": "https://localhost:8080/"
        },
        "id": "H5G6kqBrt1lN",
        "outputId": "608bf480-b2ff-4516-ff67-b54156b3e63a"
      },
      "outputs": [
        {
          "name": "stdout",
          "output_type": "stream",
          "text": [
            "[[ 9 10]\n",
            " [11 12]\n",
            " [13 14]\n",
            " [15 16]]\n"
          ]
        }
      ],
      "source": [
        "e =np.array([[9,10],[11,12],[13,14],[15,16]])\n",
        "print(e)"
      ]
    },
    {
      "cell_type": "code",
      "execution_count": null,
      "metadata": {
        "colab": {
          "base_uri": "https://localhost:8080/"
        },
        "id": "0a9QiI-guKmh",
        "outputId": "89245b6b-ab95-4d81-9c8d-cbaedba93eee"
      },
      "outputs": [
        {
          "name": "stdout",
          "output_type": "stream",
          "text": [
            "[[130 140]\n",
            " [322 348]]\n"
          ]
        }
      ],
      "source": [
        "f = np.matmul(a,e)\n",
        "print(f)"
      ]
    },
    {
      "cell_type": "code",
      "execution_count": 40,
      "metadata": {
        "id": "Ne9hVhCyubSI"
      },
      "outputs": [],
      "source": [
        "g = a*e"
      ]
    },
    {
      "cell_type": "markdown",
      "metadata": {
        "id": "ZgKJ-mmru3UK"
      },
      "source": [
        "5.20.7 **min, max dan sum pada *Numpy***"
      ]
    },
    {
      "cell_type": "code",
      "execution_count": null,
      "metadata": {
        "colab": {
          "base_uri": "https://localhost:8080/"
        },
        "id": "ZvK7QCPBu2Yp",
        "outputId": "411b50aa-cb5b-4626-e40f-eb7ceea65d77"
      },
      "outputs": [
        {
          "name": "stdout",
          "output_type": "stream",
          "text": [
            "[[ 1  2  3  4]\n",
            " [ 5  6  7  8]\n",
            " [ 9 10 11 12]]\n"
          ]
        }
      ],
      "source": [
        "import numpy as np\n",
        "\n",
        "a = np.array([[1,2,3,4],\n",
        "              [5,6,7,8],\n",
        "              [9,10,11,12]])\n",
        "print(a)"
      ]
    },
    {
      "cell_type": "code",
      "execution_count": null,
      "metadata": {
        "colab": {
          "base_uri": "https://localhost:8080/"
        },
        "id": "Jp1ZIuSbvh5Q",
        "outputId": "3ad670a4-88ac-4f26-f09b-ecfdf651c912"
      },
      "outputs": [
        {
          "name": "stdout",
          "output_type": "stream",
          "text": [
            "1\n"
          ]
        }
      ],
      "source": [
        "b = np.min(a)  #mencari nilai minimum dari a\n",
        "print(b)"
      ]
    },
    {
      "cell_type": "code",
      "execution_count": null,
      "metadata": {
        "colab": {
          "base_uri": "https://localhost:8080/"
        },
        "id": "0Hw3EZwWvvBo",
        "outputId": "7e70dd01-3119-4889-ae87-9a8a84bcb850"
      },
      "outputs": [
        {
          "name": "stdout",
          "output_type": "stream",
          "text": [
            "[1 2 3 4]\n"
          ]
        }
      ],
      "source": [
        "c = np.min(a,axis=0) \n",
        "print(c)"
      ]
    },
    {
      "cell_type": "code",
      "execution_count": null,
      "metadata": {
        "colab": {
          "base_uri": "https://localhost:8080/"
        },
        "id": "qJl2cZbxv-y8",
        "outputId": "3a7188b1-5be1-4393-90b6-17d3e5ab6714"
      },
      "outputs": [
        {
          "name": "stdout",
          "output_type": "stream",
          "text": [
            "[1 5 9]\n"
          ]
        }
      ],
      "source": [
        "d = np.min(a,axis=1)\n",
        "print(d)"
      ]
    },
    {
      "cell_type": "code",
      "source": [
        "e = np.max(a)  #mencari nilai maksimum dari a\n",
        "print(e)"
      ],
      "metadata": {
        "colab": {
          "base_uri": "https://localhost:8080/"
        },
        "id": "kAi1VONj00Ec",
        "outputId": "baf29ed7-be19-4bbb-b6ca-d6eee12c5e78"
      },
      "execution_count": 43,
      "outputs": [
        {
          "output_type": "stream",
          "name": "stdout",
          "text": [
            "12\n"
          ]
        }
      ]
    },
    {
      "cell_type": "code",
      "source": [
        "f = np.max (a,axis=0)\n",
        "print(f)"
      ],
      "metadata": {
        "colab": {
          "base_uri": "https://localhost:8080/"
        },
        "id": "rRDJYE4u0489",
        "outputId": "697c3391-f4ee-4983-a0b1-728b7d98ae07"
      },
      "execution_count": 44,
      "outputs": [
        {
          "output_type": "stream",
          "name": "stdout",
          "text": [
            "[ 9 10 11 12]\n"
          ]
        }
      ]
    },
    {
      "cell_type": "code",
      "source": [
        "g = np.max(a,axis=1)\n",
        "print(g)"
      ],
      "metadata": {
        "colab": {
          "base_uri": "https://localhost:8080/"
        },
        "id": "oJNE_lup1Gtz",
        "outputId": "225a6b80-76ae-48e2-8bc8-2a6ac842df0d"
      },
      "execution_count": 45,
      "outputs": [
        {
          "output_type": "stream",
          "name": "stdout",
          "text": [
            "[ 4  8 12]\n"
          ]
        }
      ]
    },
    {
      "cell_type": "code",
      "source": [
        "h = np.sum(a)\n",
        "print(h)"
      ],
      "metadata": {
        "colab": {
          "base_uri": "https://localhost:8080/"
        },
        "id": "KLDMAlGX1NZC",
        "outputId": "31c1f2f6-def7-4d90-8396-72cc1e3c279f"
      },
      "execution_count": 46,
      "outputs": [
        {
          "output_type": "stream",
          "name": "stdout",
          "text": [
            "78\n"
          ]
        }
      ]
    },
    {
      "cell_type": "code",
      "source": [
        "h = np.sum(a,axis=0)\n",
        "print(h)"
      ],
      "metadata": {
        "colab": {
          "base_uri": "https://localhost:8080/"
        },
        "id": "IIOk0r201ULO",
        "outputId": "1412a199-24b8-4784-83a2-c69ad6a4fc29"
      },
      "execution_count": 47,
      "outputs": [
        {
          "output_type": "stream",
          "name": "stdout",
          "text": [
            "[15 18 21 24]\n"
          ]
        }
      ]
    },
    {
      "cell_type": "code",
      "source": [
        "i = np.sum(a,axis=1)\n",
        "print(i)"
      ],
      "metadata": {
        "colab": {
          "base_uri": "https://localhost:8080/"
        },
        "id": "Yzxsg2j_1bJa",
        "outputId": "a1d4132b-7d64-4388-f47d-bcd3d4a4e990"
      },
      "execution_count": 48,
      "outputs": [
        {
          "output_type": "stream",
          "name": "stdout",
          "text": [
            "[10 26 42]\n"
          ]
        }
      ]
    }
  ],
  "metadata": {
    "colab": {
      "provenance": [],
      "authorship_tag": "ABX9TyNBoeI2TudVvyBtT4PKMoj0",
      "include_colab_link": true
    },
    "kernelspec": {
      "display_name": "Python 3",
      "name": "python3"
    },
    "language_info": {
      "name": "python"
    }
  },
  "nbformat": 4,
  "nbformat_minor": 0
}