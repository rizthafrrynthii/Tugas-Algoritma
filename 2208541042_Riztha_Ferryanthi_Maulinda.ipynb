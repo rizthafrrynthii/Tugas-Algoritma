{
  "nbformat": 4,
  "nbformat_minor": 0,
  "metadata": {
    "colab": {
      "provenance": [],
      "authorship_tag": "ABX9TyN8ElUNzdBtR1q6on9TPv64",
      "include_colab_link": true
    },
    "kernelspec": {
      "name": "python3",
      "display_name": "Python 3"
    },
    "language_info": {
      "name": "python"
    }
  },
  "cells": [
    {
      "cell_type": "markdown",
      "metadata": {
        "id": "view-in-github",
        "colab_type": "text"
      },
      "source": [
        "<a href=\"https://colab.research.google.com/github/rizthafrrynthii/Tugas-Algoritma/blob/main/2208541042_Riztha_Ferryanthi_Maulinda.ipynb\" target=\"_parent\"><img src=\"https://colab.research.google.com/assets/colab-badge.svg\" alt=\"Open In Colab\"/></a>"
      ]
    },
    {
      "cell_type": "code",
      "execution_count": null,
      "metadata": {
        "id": "JfMBNcsM0eui"
      },
      "outputs": [],
      "source": [
        "print(\"hai, it's itak\")"
      ]
    },
    {
      "cell_type": "code",
      "source": [
        "mahasiswa = 42\n",
        "uang_di_dompet = 10000\n",
        "print(mahasiswa*uang_di_dompet)"
      ],
      "metadata": {
        "id": "WlOqOB6o0pJ6"
      },
      "execution_count": null,
      "outputs": []
    },
    {
      "cell_type": "code",
      "source": [
        "nama_depan = 'itak'\n",
        "nama_belakang = 'eta'\n",
        "print (nama_depan +\" \"+ nama_belakang)"
      ],
      "metadata": {
        "id": "RabFEFqb0s2q"
      },
      "execution_count": null,
      "outputs": []
    },
    {
      "cell_type": "code",
      "source": [
        "nama = input ('hai, namamu siapa? ')\n",
        "kegiatan = input ('lagi ngapain? ')\n",
        "print('semangat '+ kegiatan + ' nya ya, '+ nama + '!')"
      ],
      "metadata": {
        "id": "MSjXlPLz1AUT"
      },
      "execution_count": null,
      "outputs": []
    },
    {
      "cell_type": "code",
      "source": [
        "nama = input('hai. namamu siapa? ')\n",
        "dompet = input('ada berapa uangmu di dompet? ')\n",
        "tabungan = input ('kalo uang di tabungan ada berapa? ')\n",
        "belanja = input ('sekarang ingin beli apa? ')\n",
        "harga = input ('berapa harganya? ')\n",
        "sisa = int(dompet)+ int(tabungan)- int (harga)\n",
        "print('ternyata sisa uang tabunganmu ' + str(sisa) + ' loh, '+ nama + '. Keren banget!')"
      ],
      "metadata": {
        "id": "Qep9S-h51Her"
      },
      "execution_count": null,
      "outputs": []
    }
  ]
}