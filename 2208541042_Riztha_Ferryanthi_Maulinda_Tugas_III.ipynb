{
  "nbformat": 4,
  "nbformat_minor": 0,
  "metadata": {
    "colab": {
      "provenance": [],
      "authorship_tag": "ABX9TyPpGEhtVx8J5D5a3u4YSpfR",
      "include_colab_link": true
    },
    "kernelspec": {
      "name": "python3",
      "display_name": "Python 3"
    },
    "language_info": {
      "name": "python"
    }
  },
  "cells": [
    {
      "cell_type": "markdown",
      "metadata": {
        "id": "view-in-github",
        "colab_type": "text"
      },
      "source": [
        "<a href=\"https://colab.research.google.com/github/rizthafrrynthii/Tugas-Algoritma/blob/main/2208541042_Riztha_Ferryanthi_Maulinda_Tugas_III.ipynb\" target=\"_parent\"><img src=\"https://colab.research.google.com/assets/colab-badge.svg\" alt=\"Open In Colab\"/></a>"
      ]
    },
    {
      "cell_type": "code",
      "execution_count": null,
      "metadata": {
        "id": "loHDz8bPgZEE"
      },
      "outputs": [],
      "source": [
        "#Tugas 3\n",
        "\n",
        "#1 Strings Index\n",
        "\n",
        "#Mencetak kata yang diinginkan dengan menggunakan urutan index pada variable berupa string\n",
        "#Urutan index dimulai dari 0 dan urutan terakhir yaitu -1\n",
        "#buat inisialiasi terlebih dahulu\n",
        "\n",
        "kelas = 'ini kelas algoritma dan struktur data'\n",
        "\n",
        "#kemudian kita akan cetak salah satu kata dari kalimat diatas dengan menggunakan kode dibawah ini"
      ]
    },
    {
      "cell_type": "code",
      "source": [
        "print(kelas[0:3])\n",
        "\n",
        "#hati-hati dalam menggunakan tanda : karena jika tidak sengaja diganti dengan tanda ; maka kodenya akan error"
      ],
      "metadata": {
        "colab": {
          "base_uri": "https://localhost:8080/"
        },
        "id": "tzVdB7cRkcvf",
        "outputId": "2f3a7808-5209-4ab5-da9c-043e772b337d"
      },
      "execution_count": null,
      "outputs": [
        {
          "output_type": "stream",
          "name": "stdout",
          "text": [
            "ini\n"
          ]
        }
      ]
    },
    {
      "cell_type": "code",
      "source": [
        "print(kelas[-13:])\n",
        "\n",
        "#diatas tertera bahwa urutan terakhir yaitu -1\n",
        "#namun, jika kita tulis [-13:-1] maka akan menjadi seperti dibawah ini\n",
        "\n",
        "print(kelas[-13:-1])\n",
        "\n",
        "#bisa dilihat bahwa kode ini tidak mencetak kalimatnya hingga akhir\n",
        "#oleh karena itu, -1 tidak di tulis dan hanya sampai tanda : saja"
      ],
      "metadata": {
        "colab": {
          "base_uri": "https://localhost:8080/"
        },
        "id": "YYmrCastnH69",
        "outputId": "7415c063-1e70-4b56-b311-677ddac76ac7"
      },
      "execution_count": null,
      "outputs": [
        {
          "output_type": "stream",
          "name": "stdout",
          "text": [
            "struktur data\n",
            "struktur dat\n"
          ]
        }
      ]
    },
    {
      "cell_type": "code",
      "source": [
        "#2 Strings Methods\n",
        "\n",
        "#sesuai judulnya, bagian ini membahas metode yang banyak digunakan pada variabel jenis string\n",
        "#perhatikan beberapa kode dibawah ini\n",
        "\n",
        "print(len(kelas))\n",
        "\n",
        "#kode ini digunakan untuk menampilkan jumlah index pada variabel string"
      ],
      "metadata": {
        "colab": {
          "base_uri": "https://localhost:8080/"
        },
        "id": "yINiYDrarH5a",
        "outputId": "2fdf01a1-04b1-4855-d73c-af25c2c4028f"
      },
      "execution_count": null,
      "outputs": [
        {
          "output_type": "stream",
          "name": "stdout",
          "text": [
            "37\n"
          ]
        }
      ]
    },
    {
      "cell_type": "code",
      "source": [
        "kelas.upper()\n",
        "#digunakan untuk menampilkan seluruh data dengan huruf kapital"
      ],
      "metadata": {
        "id": "qvArHYUhteM3",
        "colab": {
          "base_uri": "https://localhost:8080/",
          "height": 52
        },
        "outputId": "6f39ab21-5ce2-47cd-99df-0cecb4e8d8e7"
      },
      "execution_count": null,
      "outputs": [
        {
          "output_type": "execute_result",
          "data": {
            "text/plain": [
              "'INI KELAS ALGORITMA DAN STRUKTUR DATA'"
            ],
            "application/vnd.google.colaboratory.intrinsic+json": {
              "type": "string"
            }
          },
          "metadata": {},
          "execution_count": 8
        }
      ]
    },
    {
      "cell_type": "code",
      "source": [
        "kelas.lower()\n",
        "#digunakan untuk menampilkan seluruh data dengan huruf kecil"
      ],
      "metadata": {
        "colab": {
          "base_uri": "https://localhost:8080/",
          "height": 52
        },
        "id": "blXBkEmOj3OD",
        "outputId": "90ed4fda-e87e-4748-b73c-0ca0bf7aac9b"
      },
      "execution_count": null,
      "outputs": [
        {
          "output_type": "execute_result",
          "data": {
            "text/plain": [
              "'ini kelas algoritma dan struktur data'"
            ],
            "application/vnd.google.colaboratory.intrinsic+json": {
              "type": "string"
            }
          },
          "metadata": {},
          "execution_count": 9
        }
      ]
    },
    {
      "cell_type": "code",
      "source": [
        "kelas.find('algoritma')\n",
        "\n",
        "#kode diatas ini digunakan untuk mengetahui data yang terdapat di dalam kurung berada di index ke berapa\n",
        "#namun hati-hati dalam penggunaan huruf kapital. Jika tidak sesuai dengan variabel awal, maka kode ini akan otomatis mencetak angka -1\n",
        "#contohnya seperti di bawah ini"
      ],
      "metadata": {
        "colab": {
          "base_uri": "https://localhost:8080/"
        },
        "id": "On5B6ZDTj5YM",
        "outputId": "90927a01-8bb0-4acd-e7a5-35fef34147a8"
      },
      "execution_count": null,
      "outputs": [
        {
          "output_type": "execute_result",
          "data": {
            "text/plain": [
              "10"
            ]
          },
          "metadata": {},
          "execution_count": 11
        }
      ]
    },
    {
      "cell_type": "code",
      "source": [
        "kelas.find('Algoritma')\n",
        "\n",
        "#perhatikan! huruf depan kata seharusnya ditulis menggunakan huruf kecil\n",
        "#seharusnya 'algoritma' indexnya 10, tetapi disini tercetak -1\n",
        "#ini dikarenakan kesalahan dalam menggunakan huruf besar/kecil"
      ],
      "metadata": {
        "colab": {
          "base_uri": "https://localhost:8080/"
        },
        "id": "aQV-3sny1bqq",
        "outputId": "b62158ae-123e-4127-e645-154a4f9e1f5e"
      },
      "execution_count": null,
      "outputs": [
        {
          "output_type": "execute_result",
          "data": {
            "text/plain": [
              "-1"
            ]
          },
          "metadata": {},
          "execution_count": 12
        }
      ]
    },
    {
      "cell_type": "code",
      "source": [
        "#jika ingin mengganti kata dalam variabel, gunakan kode dibawah ini\n",
        "\n",
        "kelas.replace('ini', 'itu')\n",
        "\n",
        "#kata 'ini' akan diganti dengan kata 'itu'"
      ],
      "metadata": {
        "colab": {
          "base_uri": "https://localhost:8080/",
          "height": 52
        },
        "id": "dVLsvhbn1jjP",
        "outputId": "9ece4ab8-7d64-44e0-dd5a-a56d91128dc5"
      },
      "execution_count": null,
      "outputs": [
        {
          "output_type": "execute_result",
          "data": {
            "text/plain": [
              "'itu kelas algoritma dan struktur data'"
            ],
            "application/vnd.google.colaboratory.intrinsic+json": {
              "type": "string"
            }
          },
          "metadata": {},
          "execution_count": 15
        }
      ]
    },
    {
      "cell_type": "code",
      "source": [
        "#namun, hati-hati. Perhatikan lagi huruf kapital/kecil pada kata tersebut\n",
        "#jika salah menulisnya, kata tersebut tidak akan terganti oleh kata baru\n",
        "#contohnya seperti dibawah ini\n",
        "\n",
        "kelas.replace('Ini', 'itu')\n",
        "\n",
        "#kata depan dari 'Ini' memakai huruf kapital sehingga datanya tidak akan berubah"
      ],
      "metadata": {
        "colab": {
          "base_uri": "https://localhost:8080/",
          "height": 52
        },
        "id": "rucoLLNT3t81",
        "outputId": "5f7ee267-b695-4b58-b72c-aab7f9284406"
      },
      "execution_count": null,
      "outputs": [
        {
          "output_type": "execute_result",
          "data": {
            "text/plain": [
              "'ini kelas algoritma dan struktur data'"
            ],
            "application/vnd.google.colaboratory.intrinsic+json": {
              "type": "string"
            }
          },
          "metadata": {},
          "execution_count": 16
        }
      ]
    },
    {
      "cell_type": "code",
      "source": [
        "#print true/false\n",
        "#masih sama, ini juga bergantung pada penulisan huruf besar/kecil\n",
        "#jika tidak sesuai dengan data pada variabel, maka akan muncul 'False'. Namun, jika sesuai, maka akan muncul 'True'\n",
        "#perhatikan contoh dibawah ini\n",
        "\n",
        "print('Algoritma' in kelas)\n",
        "print('algoritma' in kelas)"
      ],
      "metadata": {
        "colab": {
          "base_uri": "https://localhost:8080/"
        },
        "id": "laFLeI1X4PmI",
        "outputId": "bb6241bb-9006-4ae8-e156-23b3ad6bcb1c"
      },
      "execution_count": null,
      "outputs": [
        {
          "output_type": "stream",
          "name": "stdout",
          "text": [
            "False\n",
            "True\n"
          ]
        }
      ]
    },
    {
      "cell_type": "code",
      "source": [
        "#3 Operasi Matematika\n",
        "\n",
        "print(1+1)\n",
        "print(1-1)\n",
        "1+1-1\n",
        "#operasi penjumlahan dan pengurangan diatas bisa menggunakan perintah print ataupun tidak\n",
        "\n",
        "print(2*4)\n",
        "print(2**4)\n",
        "#tanda * menyatakan perkalian\n",
        "#sedangkan tanda ** merupakan operasi perpangkatan\n",
        "\n",
        "print(5/2)\n",
        "print(5//2)\n",
        "#tanda / menyatakan pembagian sedangkan // pembulatan\n",
        "\n",
        "print(5%2)\n",
        "#tanda % merupakan operasi modulo\n",
        "\n",
        "#kita juga bisa menginisialisasi angka menggunakan variabel\n",
        "#perhatikan contoh dibawah ini\n",
        "\n",
        "x=2\n",
        "x+=5\n",
        "#jika kita taruh 'x+=' berarti x+=5 dimana x=2\n",
        "#hasil operasi ini akan dimunculkan ketika kita menggunakan perintah print(x)\n",
        "\n",
        "print(x)\n",
        "\n",
        "#contoh lain\n",
        "\n",
        "y=4\n",
        "y-=1\n",
        "y*=2\n",
        "y/=3\n",
        "print(y)\n",
        "\n",
        "#karena operasi terakhirnya merupakan pembagian, otomatis tipe data yang dihasilkan akan berupa float"
      ],
      "metadata": {
        "colab": {
          "base_uri": "https://localhost:8080/"
        },
        "id": "Ys86n6zA5hlI",
        "outputId": "0412f79e-17b9-4425-a822-9418a836539f"
      },
      "execution_count": null,
      "outputs": [
        {
          "output_type": "stream",
          "name": "stdout",
          "text": [
            "2\n",
            "0\n",
            "8\n",
            "16\n",
            "2.5\n",
            "2\n",
            "1\n",
            "7\n",
            "2.0\n"
          ]
        }
      ]
    },
    {
      "cell_type": "code",
      "source": [
        "#4 Operator Perbandingan\n",
        "\n",
        "#kode-kode dibawah ini menggunakan perintah print yang akan memunculkan hasil True/False\n",
        "#perhatikan contohnya\n",
        "\n",
        "x = 4>2\n",
        "print(x)\n",
        "x = 4<2\n",
        "print(x)\n",
        "x = 4>=2\n",
        "print(x)\n",
        "x = 4<=2\n",
        "print(x)\n",
        "x = 4==2\n",
        "print(x)\n",
        "x = 4!=2\n",
        "print(x)\n",
        "\n",
        "#tanda > / < artinya 'lebih besar/kecil dari' \n",
        "#tanda >= / <= artinya 'lebih besar/kecil sama dengan'\n",
        "#tanda == / != artinya 'sama/tidak sama dengan'"
      ],
      "metadata": {
        "colab": {
          "base_uri": "https://localhost:8080/"
        },
        "id": "DAVzlH8tAXJj",
        "outputId": "b028760f-fb6d-4c0a-d572-e21b0c76fefd"
      },
      "execution_count": null,
      "outputs": [
        {
          "output_type": "stream",
          "name": "stdout",
          "text": [
            "True\n",
            "False\n",
            "True\n",
            "False\n",
            "False\n",
            "True\n"
          ]
        }
      ]
    },
    {
      "cell_type": "code",
      "source": [
        "#5 operator logika\n",
        "\n",
        "#terdapat operator 'and', 'or' dan 'not'\n",
        "#and akan bernilai TRUE jika kedua pernyataannya TRUE\n",
        "#or akan bernilai TRUE jika salah satunya bernilai TRUE\n",
        "#sedangkan not adalah nilai yang berlawanan\n",
        "#perhatikan contoh dibawah ini\n",
        "\n",
        "#kita inisialisasi variabel terlebih dahulu\n",
        "\n",
        "siswa_unud = 55\n",
        "siswi_unud = 43\n",
        "print(siswa_unud < 100 and siswi_unud > 30)\n",
        "\n",
        "#nilai diatas bernilai TRUE karena kedua pernyataan bernilai benar\n",
        "#contoh lain\n",
        "\n",
        "print(siswi_unud > siswa_unud or siswa_unud < siswi_unud)\n",
        "\n",
        "#diawal tertera bahwa operasi 'or' akan bernilai benar jika salah satunya benar\n",
        "#namun, dalam kode diatas, kedua pernyataannya salah. Sehingga otomatis nilai akhirnya salah\n",
        "\n",
        "print(not(siswi_unud > siswa_unud or siswa_unud < siswi_unud))\n",
        "\n",
        "#perintah print diatas akan menghasilkan nilai true karena terdapat operasi not yang merupakan operasi kebalikan"
      ],
      "metadata": {
        "colab": {
          "base_uri": "https://localhost:8080/"
        },
        "id": "5nTRjpPgC2fa",
        "outputId": "ee39e5a7-99d7-4cea-caef-51fb18b300d0"
      },
      "execution_count": null,
      "outputs": [
        {
          "output_type": "stream",
          "name": "stdout",
          "text": [
            "True\n",
            "False\n",
            "True\n"
          ]
        }
      ]
    },
    {
      "cell_type": "code",
      "source": [
        "#6 Operator If\n",
        "\n",
        "#operator yang akan dijalankan ketika bernilai True\n",
        "#apabila False, tidak akan dijalankan\n",
        "#perhatikan contoh berikut\n",
        "\n",
        "nilai = float(input('berapa nilaimu? '))\n",
        "if nilai >= 80:\n",
        "   print('your grade is A, congratulations! you doing great!')\n",
        "elif nilai < 80 and nilai >= 60:\n",
        "     print(\"your grade is B, keep it up! you're almost there!\")\n",
        "elif nilai < 60 and nilai >= 40:\n",
        "     print(\"your grade is C, study harder!\")\n",
        "elif nilai < 40:\n",
        "     print(\"your grade is D, you must learn more!\")"
      ],
      "metadata": {
        "id": "sV9u-R6RHiK2",
        "colab": {
          "base_uri": "https://localhost:8080/"
        },
        "outputId": "1c8148e4-f9e3-4061-ceef-d04ec871b65e"
      },
      "execution_count": null,
      "outputs": [
        {
          "output_type": "stream",
          "name": "stdout",
          "text": [
            "berapa nilaimu? 90\n",
            "your grade is A, congratulations! you doing great!\n"
          ]
        }
      ]
    }
  ]
}